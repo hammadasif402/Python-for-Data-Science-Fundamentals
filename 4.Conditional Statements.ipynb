{
 "cells": [
  {
   "cell_type": "markdown",
   "metadata": {},
   "source": [
    "# Comparision Operator \n",
    "* `==`  equals to\n",
    "* `!=` not equals to\n",
    "* `>` Greater than\n",
    "* `<` less than \n",
    "* `>=` Greater than and equals to\n",
    "* `<=` less than and equals to"
   ]
  },
  {
   "cell_type": "code",
   "execution_count": 1,
   "metadata": {},
   "outputs": [
    {
     "name": "stdout",
     "output_type": "stream",
     "text": [
      "True\n",
      "True\n",
      "False\n"
     ]
    }
   ],
   "source": [
    "print(\"Apple\" == \"Apple\") # will give boolean value.\n",
    "print(2 != 3)\n",
    "print(2 > 3)"
   ]
  },
  {
   "cell_type": "markdown",
   "metadata": {},
   "source": [
    "# When we use the == operator to determine whether two values are equal or not, the output returned will always be True or False"
   ]
  },
  {
   "cell_type": "markdown",
   "metadata": {},
   "source": [
    "Although they may look like strings, `True` and `False` belong to a different data type (so they are by no means strings):\n",
    "\n",
    "\n",
    "`True` and `False` are often called **Boolean values** or **Booleans** \n",
    "\n",
    "\n",
    "Boolean values (`True` and `False`) are necessary parts of any if statement. if must always be followed by one of the following:\n",
    "\n",
    "1) A Boolean value.\n",
    "\n",
    "2) An expression that evaluates to a Boolean value."
   ]
  },
  {
   "cell_type": "markdown",
   "metadata": {},
   "source": [
    "The indented code is only executed when if is followed by `True`. When if is followed by `False`, the code inside the body is not executed. "
   ]
  },
  {
   "cell_type": "code",
   "execution_count": 2,
   "metadata": {},
   "outputs": [
    {
     "name": "stdout",
     "output_type": "stream",
     "text": [
      "Nice\n"
     ]
    }
   ],
   "source": [
    "if True:\n",
    "    print(\"Nice\")\n",
    "if False:\n",
    "    print(\"Bad\")"
   ]
  },
  {
   "cell_type": "code",
   "execution_count": 76,
   "metadata": {},
   "outputs": [
    {
     "name": "stdout",
     "output_type": "stream",
     "text": [
      "This is free\n"
     ]
    }
   ],
   "source": [
    "a_price = 0\n",
    "if a_price == 0:\n",
    "    print('This is free')    \n",
    "if a_price == 1:\n",
    "    print('This is not free')"
   ]
  },
  {
   "cell_type": "code",
   "execution_count": 3,
   "metadata": {},
   "outputs": [],
   "source": [
    "from csv import reader\n",
    "\n",
    "with open(\"AppleStore.csv\", encoding= \"UTF-8\") as opened_file:\n",
    "    read_file = reader(opened_file)\n",
    "    apps_data = list(read_file)\n",
    "    "
   ]
  },
  {
   "cell_type": "code",
   "execution_count": 3,
   "metadata": {},
   "outputs": [
    {
     "data": {
      "text/plain": [
       "3.3767258382642997"
      ]
     },
     "execution_count": 3,
     "metadata": {},
     "output_type": "execute_result"
    }
   ],
   "source": [
    "# Free apps ratings\n",
    "\n",
    "free_apps_ratings = []\n",
    "for row in apps_data[1:]:\n",
    "    ratings = float(row[7])\n",
    "    price = float(row[4])\n",
    "    if price == 0.0:\n",
    "        free_apps_ratings.append(ratings)\n",
    "\n",
    "avg_rating_free = sum(free_apps_ratings)/len(free_apps_ratings)\n",
    "avg_rating_free"
   ]
  },
  {
   "cell_type": "code",
   "execution_count": 4,
   "metadata": {},
   "outputs": [
    {
     "data": {
      "text/plain": [
       "3.720948742438714"
      ]
     },
     "execution_count": 4,
     "metadata": {},
     "output_type": "execute_result"
    }
   ],
   "source": [
    "# non_Free apps ratings\n",
    "\n",
    "non_free_apps_ratings = []\n",
    "for row in apps_data[1:]:\n",
    "    ratings = float(row[7])\n",
    "    price = float(row[4])\n",
    "    if price != 0.0:\n",
    "        non_free_apps_ratings.append(ratings)\n",
    "avg_rating_non_free = sum(non_free_apps_ratings)/len(non_free_apps_ratings)\n",
    "avg_rating_non_free"
   ]
  },
  {
   "cell_type": "code",
   "execution_count": 80,
   "metadata": {},
   "outputs": [
    {
     "data": {
      "text/plain": [
       "\"'''The results indicate that, on average, non-free apps are rated better\\nthan free apps — non-free apps have an average rating of 3.72, compared to\\n3.38 for free apps. This is not to say that non-free apps are, on average, better\\nthan free apps — all we can say for sure is that iOS users generally appreciate\\nnon-free apps more. This may be because the non-free apps are indeed better, but\\nit may also be that people are a bit biased to give higher ratings to\\nnon-free apps to convince themselves that they made a good investment.\\n'''\""
      ]
     },
     "execution_count": 80,
     "metadata": {},
     "output_type": "execute_result"
    }
   ],
   "source": [
    "\"\"\"'''The results indicate that, on average, non-free apps are rated better\n",
    "than free apps — non-free apps have an average rating of 3.72, compared to\n",
    "3.38 for free apps. This is not to say that non-free apps are, on average, better\n",
    "than free apps — all we can say for sure is that iOS users generally appreciate\n",
    "non-free apps more. This may be because the non-free apps are indeed better, but\n",
    "it may also be that people are a bit biased to give higher ratings to\n",
    "non-free apps to convince themselves that they made a good investment.\n",
    "'''\"\"\""
   ]
  },
  {
   "cell_type": "code",
   "execution_count": 81,
   "metadata": {},
   "outputs": [
    {
     "name": "stdout",
     "output_type": "stream",
     "text": [
      "3.6850077679958573\n"
     ]
    }
   ],
   "source": [
    "games_ratings = []\n",
    "for row in apps_data[1:]:\n",
    "    rating = float(row[7])\n",
    "    genre = row[11]\n",
    "    \n",
    "    if genre == 'Games':\n",
    "        games_ratings.append(rating)\n",
    "        \n",
    "avg_rating_games = sum(games_ratings) / len(games_ratings)\n",
    "print(avg_rating_games)"
   ]
  },
  {
   "cell_type": "code",
   "execution_count": 82,
   "metadata": {},
   "outputs": [
    {
     "name": "stdout",
     "output_type": "stream",
     "text": [
      "3.343928035982009\n"
     ]
    }
   ],
   "source": [
    "non_games_ratings = []\n",
    "for row in apps_data[1:]:\n",
    "    rating = float(row[7])\n",
    "    genre = row[11]\n",
    "    \n",
    "    if genre != 'Games':\n",
    "        non_games_ratings.append(rating)\n",
    "        \n",
    "avg_rating_non_games = sum(non_games_ratings) / len(non_games_ratings)\n",
    "print(avg_rating_non_games)"
   ]
  },
  {
   "cell_type": "code",
   "execution_count": 83,
   "metadata": {},
   "outputs": [
    {
     "data": {
      "text/plain": [
       "'On average, gaming apps have greater ratings compared to non-gaming apps.\\nThis might be because gaming apps offer much more entertainment, which\\nmakes the users more inclined to give higher ratings.'"
      ]
     },
     "execution_count": 83,
     "metadata": {},
     "output_type": "execute_result"
    }
   ],
   "source": [
    "'''On average, gaming apps have greater ratings compared to non-gaming apps.\n",
    "This might be because gaming apps offer much more entertainment, which\n",
    "makes the users more inclined to give higher ratings.'''"
   ]
  },
  {
   "cell_type": "code",
   "execution_count": 84,
   "metadata": {},
   "outputs": [
    {
     "data": {
      "text/plain": [
       "3.5285777580859548"
      ]
     },
     "execution_count": 84,
     "metadata": {},
     "output_type": "execute_result"
    }
   ],
   "source": [
    "free_games_ratings = []\n",
    "\n",
    "for row in apps_data[1:]:\n",
    "    rating = float(row[7])\n",
    "    price = float(row[4])\n",
    "    genre = row[11]\n",
    "    if price == 0.0 and genre == \"Games\":\n",
    "        free_games_ratings.append(rating)\n",
    "        \n",
    "avg_rating_free_games = sum(free_games_ratings) / len(free_games_ratings)\n",
    "avg_rating_free_games"
   ]
  },
  {
   "cell_type": "markdown",
   "metadata": {},
   "source": [
    "# Logical Operator \n",
    "* not \n",
    "* and \n",
    "* or"
   ]
  },
  {
   "cell_type": "code",
   "execution_count": 85,
   "metadata": {},
   "outputs": [
    {
     "name": "stdout",
     "output_type": "stream",
     "text": [
      "False\n",
      "True\n",
      "False\n"
     ]
    }
   ],
   "source": [
    "print(True and False)\n",
    "print(True or False)\n",
    "print(not True and False)"
   ]
  },
  {
   "cell_type": "code",
   "execution_count": 86,
   "metadata": {},
   "outputs": [
    {
     "data": {
      "text/plain": [
       "3.655994043186895"
      ]
     },
     "execution_count": 86,
     "metadata": {},
     "output_type": "execute_result"
    }
   ],
   "source": [
    "games_social_ratings = []\n",
    "\n",
    "for row in apps_data[1:]:\n",
    "    rating = float(row[7])\n",
    "    genre = row[11]\n",
    "    if genre == \"Games\" or genre == \"Social Networking\":\n",
    "        games_social_ratings.append(rating)\n",
    "\n",
    "avg_games_social = sum(games_social_ratings) / len(games_social_ratings)\n",
    "avg_games_social"
   ]
  },
  {
   "cell_type": "code",
   "execution_count": 87,
   "metadata": {},
   "outputs": [
    {
     "data": {
      "text/plain": [
       "3.496875"
      ]
     },
     "execution_count": 87,
     "metadata": {},
     "output_type": "execute_result"
    }
   ],
   "source": [
    "free_games_social_ratings = []\n",
    "\n",
    "for row in apps_data[1:]:\n",
    "    rating = float(row[7])\n",
    "    price = float(row[4])\n",
    "    genre = row[11]\n",
    "    if (genre == \"Games\" or genre == \"Social Networking\") and price == 0.0:\n",
    "        free_games_social_ratings.append(rating)\n",
    "        \n",
    "avg_free = sum(free_games_social_ratings) / len(free_games_social_ratings)\n",
    "avg_free"
   ]
  },
  {
   "cell_type": "code",
   "execution_count": 88,
   "metadata": {},
   "outputs": [
    {
     "data": {
      "text/plain": [
       "3.8904235727440146"
      ]
     },
     "execution_count": 88,
     "metadata": {},
     "output_type": "execute_result"
    }
   ],
   "source": [
    "nonfree_games_social_ratings = []\n",
    "\n",
    "for row in apps_data[1:]:\n",
    "    rating = float(row[7])\n",
    "    price = float(row[4])\n",
    "    genre = row[11]\n",
    "    if (genre == \"Games\" or genre == \"Social Networking\") and price != 0.0:\n",
    "        nonfree_games_social_ratings.append(rating)\n",
    "\n",
    "avg_non_free = sum(nonfree_games_social_ratings) / len(nonfree_games_social_ratings)\n",
    "avg_non_free"
   ]
  },
  {
   "cell_type": "code",
   "execution_count": 89,
   "metadata": {},
   "outputs": [],
   "source": [
    "ratings = []\n",
    "for row in apps_data[1:]:\n",
    "    rating = float(row[7])\n",
    "    price = float(row[4])\n",
    "    \n",
    "    if price > 9:\n",
    "        ratings.append(rating)\n",
    "        \n",
    "avg_rating = sum(ratings) / len(ratings) \n",
    "n_apps_more_9 = len(ratings)\n",
    "n_apps_less_9 = len(apps_data[1:]) - len(ratings)"
   ]
  },
  {
   "cell_type": "markdown",
   "metadata": {},
   "source": [
    "# Add column in the list"
   ]
  },
  {
   "cell_type": "code",
   "execution_count": 90,
   "metadata": {},
   "outputs": [],
   "source": [
    "for row in apps_data[1:]: \n",
    "    price = float(row[4])\n",
    "    if price == 0.0:\n",
    "        row.append(\"free\") # add column in main data\n",
    "    else:\n",
    "        row.append('non-free')\n",
    "apps_data[0].append('free_or_not') # add colum in headers\n"
   ]
  },
  {
   "cell_type": "code",
   "execution_count": 91,
   "metadata": {},
   "outputs": [
    {
     "data": {
      "text/plain": [
       "[['id',\n",
       "  'track_name',\n",
       "  'size_bytes',\n",
       "  'currency',\n",
       "  'price',\n",
       "  'rating_count_tot',\n",
       "  'rating_count_ver',\n",
       "  'user_rating',\n",
       "  'user_rating_ver',\n",
       "  'ver',\n",
       "  'cont_rating',\n",
       "  'prime_genre',\n",
       "  'sup_devices.num',\n",
       "  'ipadSc_urls.num',\n",
       "  'lang.num',\n",
       "  'vpp_lic',\n",
       "  'free_or_not'],\n",
       " ['284882215',\n",
       "  'Facebook',\n",
       "  '389879808',\n",
       "  'USD',\n",
       "  '0.0',\n",
       "  '2974676',\n",
       "  '212',\n",
       "  '3.5',\n",
       "  '3.5',\n",
       "  '95.0',\n",
       "  '4+',\n",
       "  'Social Networking',\n",
       "  '37',\n",
       "  '1',\n",
       "  '29',\n",
       "  '1',\n",
       "  'free'],\n",
       " ['389801252',\n",
       "  'Instagram',\n",
       "  '113954816',\n",
       "  'USD',\n",
       "  '0.0',\n",
       "  '2161558',\n",
       "  '1289',\n",
       "  '4.5',\n",
       "  '4.0',\n",
       "  '10.23',\n",
       "  '12+',\n",
       "  'Photo & Video',\n",
       "  '37',\n",
       "  '0',\n",
       "  '29',\n",
       "  '1',\n",
       "  'free'],\n",
       " ['529479190',\n",
       "  'Clash of Clans',\n",
       "  '116476928',\n",
       "  'USD',\n",
       "  '0.0',\n",
       "  '2130805',\n",
       "  '579',\n",
       "  '4.5',\n",
       "  '4.5',\n",
       "  '9.24.12',\n",
       "  '9+',\n",
       "  'Games',\n",
       "  '38',\n",
       "  '5',\n",
       "  '18',\n",
       "  '1',\n",
       "  'free'],\n",
       " ['420009108',\n",
       "  'Temple Run',\n",
       "  '65921024',\n",
       "  'USD',\n",
       "  '0.0',\n",
       "  '1724546',\n",
       "  '3842',\n",
       "  '4.5',\n",
       "  '4.0',\n",
       "  '1.6.2',\n",
       "  '9+',\n",
       "  'Games',\n",
       "  '40',\n",
       "  '5',\n",
       "  '1',\n",
       "  '1',\n",
       "  'free'],\n",
       " ['284035177',\n",
       "  'Pandora - Music & Radio',\n",
       "  '130242560',\n",
       "  'USD',\n",
       "  '0.0',\n",
       "  '1126879',\n",
       "  '3594',\n",
       "  '4.0',\n",
       "  '4.5',\n",
       "  '8.4.1',\n",
       "  '12+',\n",
       "  'Music',\n",
       "  '37',\n",
       "  '4',\n",
       "  '1',\n",
       "  '1',\n",
       "  'free']]"
      ]
     },
     "execution_count": 91,
     "metadata": {},
     "output_type": "execute_result"
    }
   ],
   "source": [
    "apps_data[:6]"
   ]
  },
  {
   "cell_type": "code",
   "execution_count": 92,
   "metadata": {},
   "outputs": [],
   "source": [
    "for row in apps_data[1:]:\n",
    "    price = float(row[4])\n",
    "    if price == 0.0:\n",
    "        row.append(\"free\")\n",
    "    elif price > 0 and price < 20:\n",
    "        row.append('affordable')\n",
    "    elif price >= 20 and price < 50:\n",
    "         row.append('expensive')\n",
    "    elif price >= 50:\n",
    "        row.append('very expensive')\n",
    "        \n",
    "apps_data[0].append('price_label')\n",
    "\n",
    "        "
   ]
  },
  {
   "cell_type": "code",
   "execution_count": 94,
   "metadata": {},
   "outputs": [
    {
     "name": "stdout",
     "output_type": "stream",
     "text": [
      "[['id', 'track_name', 'size_bytes', 'currency', 'price', 'rating_count_tot', 'rating_count_ver', 'user_rating', 'user_rating_ver', 'ver', 'cont_rating', 'prime_genre', 'sup_devices.num', 'ipadSc_urls.num', 'lang.num', 'vpp_lic', 'free_or_not', 'price_label'], ['284882215', 'Facebook', '389879808', 'USD', '0.0', '2974676', '212', '3.5', '3.5', '95.0', '4+', 'Social Networking', '37', '1', '29', '1', 'free', 'free'], ['389801252', 'Instagram', '113954816', 'USD', '0.0', '2161558', '1289', '4.5', '4.0', '10.23', '12+', 'Photo & Video', '37', '0', '29', '1', 'free', 'free'], ['529479190', 'Clash of Clans', '116476928', 'USD', '0.0', '2130805', '579', '4.5', '4.5', '9.24.12', '9+', 'Games', '38', '5', '18', '1', 'free', 'free'], ['420009108', 'Temple Run', '65921024', 'USD', '0.0', '1724546', '3842', '4.5', '4.0', '1.6.2', '9+', 'Games', '40', '5', '1', '1', 'free', 'free'], ['284035177', 'Pandora - Music & Radio', '130242560', 'USD', '0.0', '1126879', '3594', '4.0', '4.5', '8.4.1', '12+', 'Music', '37', '4', '1', '1', 'free', 'free'], ['429047995', 'Pinterest', '74778624', 'USD', '0.0', '1061624', '1814', '4.5', '4.0', '6.26', '12+', 'Social Networking', '37', '5', '27', '1', 'free', 'free'], ['282935706', 'Bible', '92774400', 'USD', '0.0', '985920', '5320', '4.5', '5.0', '7.5.1', '4+', 'Reference', '37', '5', '45', '1', 'free', 'free'], ['553834731', 'Candy Crush Saga', '222846976', 'USD', '0.0', '961794', '2453', '4.5', '4.5', '1.101.0', '4+', 'Games', '43', '5', '24', '1', 'free', 'free'], ['324684580', 'Spotify Music', '132510720', 'USD', '0.0', '878563', '8253', '4.5', '4.5', '8.4.3', '12+', 'Music', '37', '5', '18', '1', 'free', 'free'], ['343200656', 'Angry Birds', '175966208', 'USD', '0.0', '824451', '107', '4.5', '3.0', '7.4.0', '4+', 'Games', '38', '0', '10', '1', 'free', 'free'], ['512939461', 'Subway Surfers', '156038144', 'USD', '0.0', '706110', '97', '4.5', '4.0', '1.72.1', '9+', 'Games', '38', '5', '1', '1', 'free', 'free'], ['362949845', 'Fruit Ninja Classic', '104590336', 'USD', '1.99', '698516', '132', '4.5', '4.0', '2.3.9', '4+', 'Games', '38', '5', '13', '1', 'non-free', 'affordable'], ['359917414', 'Solitaire', '101943296', 'USD', '0.0', '679055', '9673', '4.5', '4.5', '4.11.2', '4+', 'Games', '38', '4', '11', '1', 'free', 'free'], ['469369175', 'CSR Racing', '524803072', 'USD', '0.0', '677247', '2029', '4.5', '4.5', '4.0.1', '4+', 'Games', '37', '5', '10', '1', 'free', 'free'], ['924373886', 'Crossy Road - Endless Arcade Hopper', '165471232', 'USD', '0.0', '669079', '1087', '4.5', '4.5', '1.5.4', '9+', 'Games', '38', '5', '13', '1', 'free', 'free'], ['575658129', 'Injustice: Gods Among Us', '1829599232', 'USD', '0.0', '612532', '410', '4.5', '4.5', '2.15.1', '12+', 'Games', '39', '5', '13', '1', 'free', 'free'], ['506627515', 'Hay Day', '113641472', 'USD', '0.0', '567344', '4887', '4.5', '4.5', '1.33.134', '4+', 'Games', '38', '5', '18', '1', 'free', 'free'], ['500116670', 'Clear Vision (17+)', '37879808', 'USD', '0.99', '541693', '69225', '4.5', '4.5', '1.1.3', '17+', 'Games', '43', '5', '1', '1', 'non-free', 'affordable'], ['479516143', 'Minecraft: Pocket Edition', '147787776', 'USD', '6.99', '522012', '1148', '4.5', '4.5', '1.1', '9+', 'Games', '37', '1', '11', '1', 'non-free', 'affordable']]\n"
     ]
    }
   ],
   "source": [
    "print(apps_data[:20])"
   ]
  }
 ],
 "metadata": {
  "kernelspec": {
   "display_name": "Python 3",
   "language": "python",
   "name": "python3"
  },
  "language_info": {
   "codemirror_mode": {
    "name": "ipython",
    "version": 3
   },
   "file_extension": ".py",
   "mimetype": "text/x-python",
   "name": "python",
   "nbconvert_exporter": "python",
   "pygments_lexer": "ipython3",
   "version": "3.8.3"
  }
 },
 "nbformat": 4,
 "nbformat_minor": 2
}
