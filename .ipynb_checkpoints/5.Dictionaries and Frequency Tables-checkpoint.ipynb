{
 "cells": [
  {
   "cell_type": "code",
   "execution_count": 2,
   "metadata": {},
   "outputs": [],
   "source": [
    "# Two lists\n",
    "content_ratings = ['4+', '9+', '12+', '17+']\n",
    "numbers = [4433, 987, 1155, 622]\n",
    "\n",
    "# A list of lists\n",
    "content_rating_numbers = [['4+', '9+', '12+', '17+'],\n",
    "                          [4433, 987, 1155, 622]]"
   ]
  },
  {
   "cell_type": "markdown",
   "metadata": {},
   "source": [
    "What if we could transform the index numbers to content rating values? This way, the mapping between content ratings and their corresponding numbers should become much clearer."
   ]
  },
  {
   "cell_type": "markdown",
   "metadata": {},
   "source": [
    "Fortunately, we can do this using a dictionary:"
   ]
  },
  {
   "cell_type": "code",
   "execution_count": 3,
   "metadata": {},
   "outputs": [
    {
     "name": "stdout",
     "output_type": "stream",
     "text": [
      "{'4+': 4433, '9+': 987, '12+': 1155, '17+': 622}\n"
     ]
    }
   ],
   "source": [
    "content_ratings = {'4+': 4433, '9+': 987, '12+': 1155, '17+': 622}\n",
    "print(content_ratings) # order of dictionary might be changed when it will print"
   ]
  },
  {
   "cell_type": "markdown",
   "metadata": {},
   "source": [
    "With dictionaries, there's no longer a connection between the index of a value and the position of that value in the dictionary, so the order becomes unimportant"
   ]
  },
  {
   "cell_type": "code",
   "execution_count": 4,
   "metadata": {},
   "outputs": [
    {
     "name": "stdout",
     "output_type": "stream",
     "text": [
      "987\n",
      "622\n"
     ]
    }
   ],
   "source": [
    "content_ratings = {'4+': 4433, '9+': 987, '12+': 1155, '17+': 622}\n",
    "over_9 = content_ratings['9+']\n",
    "over_17 = content_ratings['17+']\n",
    "print(over_9)\n",
    "print(over_17)"
   ]
  },
  {
   "cell_type": "markdown",
   "metadata": {},
   "source": [
    "Alternatively, we can create a dictionary and populate it with values by following these steps:\n",
    "\n",
    "We create an empty dictionary.\n",
    "\n",
    "We add values one by one to that empty dictionary."
   ]
  },
  {
   "cell_type": "code",
   "execution_count": 5,
   "metadata": {},
   "outputs": [],
   "source": [
    "content_ratings = {} \n",
    "content_ratings['4+'] = 4433\n",
    "content_ratings['9+'] = 987\n",
    "content_ratings['12+'] = 1155\n",
    "content_ratings['17+'] = 622\n",
    "\n",
    "over_12_n_apps = content_ratings['12+']"
   ]
  },
  {
   "cell_type": "markdown",
   "metadata": {},
   "source": [
    "Dictionary keys can be of almost any data type we've learned so far, except lists and dictionaries. If we use lists or dictionaries as dictionary keys, the computer raises an error:"
   ]
  },
  {
   "cell_type": "code",
   "execution_count": 6,
   "metadata": {},
   "outputs": [],
   "source": [
    "d_1 = {'key_1': 'first_value', \n",
    "       'key_2': 2,\n",
    "       'key_3': 3.14,\n",
    "       'key_4': True,\n",
    "       'key_5': [4,2,1],\n",
    "       'key_6': {'inner_key' : 6}}"
   ]
  },
  {
   "cell_type": "markdown",
   "metadata": {},
   "source": [
    "Using the `\"in\"` operator to check wehter key is exist. `\"in\"` operator will only check key. It wont check value. However \"in\" operator can check element in list"
   ]
  },
  {
   "cell_type": "code",
   "execution_count": 7,
   "metadata": {},
   "outputs": [
    {
     "name": "stdout",
     "output_type": "stream",
     "text": [
      "True\n",
      "False\n"
     ]
    }
   ],
   "source": [
    "content_ratings = {'4+': 4433, '9+': 987, '12+': 1155, '17+': 622}\n",
    "\n",
    "is_in_dictionary_1 = \"9+\" in content_ratings\n",
    "is_in_dictionary_2 = 987 in content_ratings\n",
    "\n",
    "print(is_in_dictionary_1)\n",
    "print(is_in_dictionary_2)"
   ]
  },
  {
   "cell_type": "code",
   "execution_count": 8,
   "metadata": {},
   "outputs": [
    {
     "name": "stdout",
     "output_type": "stream",
     "text": [
      "It exists\n",
      "It exists\n"
     ]
    }
   ],
   "source": [
    "if '17+' in content_ratings:\n",
    "    result = \"It exists\"\n",
    "    print(result)\n",
    "\n",
    "    \n",
    "# Alternative solution    \n",
    "is_in_dictionary = '17+' in content_ratings\n",
    "\n",
    "if is_in_dictionary:\n",
    "    result = \"It exists\"\n",
    "    print(result)"
   ]
  },
  {
   "cell_type": "markdown",
   "metadata": {},
   "source": [
    "# we can update (change) the dictionary values. To update a dictionary value, we need to reference it by its corresponding dictionary key "
   ]
  },
  {
   "cell_type": "code",
   "execution_count": 3,
   "metadata": {},
   "outputs": [],
   "source": [
    "from csv import reader\n",
    "with open(\"AppleStore.csv\", encoding=\"UTF-8\") as opened_file:\n",
    "    read_file = reader(opened_file)\n",
    "    apps_data = list(read_file)\n",
    "    "
   ]
  },
  {
   "cell_type": "code",
   "execution_count": 4,
   "metadata": {},
   "outputs": [],
   "source": [
    "content_ratings  = {}\n",
    "for row in apps_data[1:]:\n",
    "    c_rating = row[10]\n",
    "    if c_rating in content_ratings:\n",
    "        content_ratings[c_rating] += 1\n",
    "    else:\n",
    "        content_ratings[c_rating] = 1"
   ]
  },
  {
   "cell_type": "code",
   "execution_count": 5,
   "metadata": {},
   "outputs": [
    {
     "data": {
      "text/plain": [
       "{'4+': 4433, '12+': 1155, '9+': 987, '17+': 622}"
      ]
     },
     "execution_count": 5,
     "metadata": {},
     "output_type": "execute_result"
    }
   ],
   "source": [
    "content_ratings"
   ]
  },
  {
   "cell_type": "code",
   "execution_count": 6,
   "metadata": {},
   "outputs": [
    {
     "name": "stdout",
     "output_type": "stream",
     "text": [
      "{'4+': 4433, '9+': 987, '12+': 1155, '17+': 622}\n"
     ]
    }
   ],
   "source": [
    "# Alternative method\n",
    "\n",
    "content_ratings = {'4+': 0, '9+': 0, '12+': 0, '17+': 0}\n",
    "\n",
    "for row in apps_data:\n",
    "    c_rating = row[10]\n",
    "    if c_rating in content_ratings:\n",
    "        content_ratings[c_rating] += 1\n",
    "    \n",
    "print(content_ratings)  "
   ]
  },
  {
   "cell_type": "markdown",
   "metadata": {},
   "source": [
    "The number of times a unique value occurs is also called **frequency**"
   ]
  },
  {
   "cell_type": "markdown",
   "metadata": {},
   "source": [
    "When we're analyzing frequencies, we might be interested in answering questions about proportions and percentages:\n",
    "\n",
    "What proportion of apps have a content rating of 4+?\n",
    "\n",
    "What percentage of apps have a content rating of 17+?\n",
    "\n",
    "What percentage of apps can a 15-year-old download?"
   ]
  },
  {
   "cell_type": "code",
   "execution_count": 7,
   "metadata": {},
   "outputs": [
    {
     "name": "stdout",
     "output_type": "stream",
     "text": [
      "{'Social Networking': 167, 'Photo & Video': 349, 'Games': 3862, 'Music': 138, 'Reference': 64, 'Health & Fitness': 180, 'Weather': 72, 'Utilities': 248, 'Travel': 81, 'Shopping': 122, 'News': 75, 'Navigation': 46, 'Lifestyle': 144, 'Entertainment': 535, 'Food & Drink': 63, 'Sports': 114, 'Book': 112, 'Finance': 104, 'Education': 453, 'Productivity': 178, 'Business': 57, 'Catalogs': 10, 'Medical': 23}\n"
     ]
    }
   ],
   "source": [
    "genre_counting = {}\n",
    "\n",
    "for row in apps_data[1:]:\n",
    "    genre = row[11]    \n",
    "    if genre in genre_counting:\n",
    "        genre_counting[genre] += 1\n",
    "    else:\n",
    "        genre_counting[genre] = 1\n",
    "        \n",
    "print(genre_counting)\n",
    "\n",
    "# The most common app genre is 'Games' (there are 3862 gaming apps)"
   ]
  },
  {
   "cell_type": "markdown",
   "metadata": {},
   "source": [
    "# Transform frequencies to proportions or percentages"
   ]
  },
  {
   "cell_type": "code",
   "execution_count": 8,
   "metadata": {},
   "outputs": [
    {
     "data": {
      "text/plain": [
       "{'4+': 61.595109073224954,\n",
       " '9+': 13.714047519799916,\n",
       " '12+': 16.04835348061692,\n",
       " '17+': 8.642489926358204}"
      ]
     },
     "execution_count": 8,
     "metadata": {},
     "output_type": "execute_result"
    }
   ],
   "source": [
    "total_number_of_apps = 7197\n",
    "for key in content_ratings:\n",
    "    content_ratings[key] /= total_number_of_apps\n",
    "    content_ratings[key] *= 100\n",
    "content_ratings    "
   ]
  },
  {
   "cell_type": "code",
   "execution_count": 9,
   "metadata": {},
   "outputs": [
    {
     "data": {
      "text/plain": [
       "91.35751007364179"
      ]
     },
     "execution_count": 9,
     "metadata": {},
     "output_type": "execute_result"
    }
   ],
   "source": [
    "# percentage of apps that can be downloaded by a 15-year-old\n",
    "\n",
    "percentage_15_allowed = content_ratings[\"4+\"] + content_ratings[\"9+\"] + content_ratings[\"12+\"]\n",
    "percentage_15_allowed "
   ]
  },
  {
   "cell_type": "markdown",
   "metadata": {},
   "source": [
    "We transformed frequencies to proportions or percentages by overwriting the initial dictionary values.\n",
    "\n",
    "However, we'll often need to keep the dictionaries separate for later analysis.\n",
    "\n",
    "We can create a new dictionary instead of overwriting the values in the initial dictionary."
   ]
  },
  {
   "cell_type": "code",
   "execution_count": 10,
   "metadata": {},
   "outputs": [
    {
     "data": {
      "text/plain": [
       "{'Social Networking': 2.3204112824788106,\n",
       " 'Photo & Video': 4.849242740030569,\n",
       " 'Games': 53.66124774211477,\n",
       " 'Music': 1.9174656106711132,\n",
       " 'Reference': 0.8892594136445742,\n",
       " 'Health & Fitness': 2.501042100875365,\n",
       " 'Weather': 1.0004168403501459,\n",
       " 'Utilities': 3.4458802278727245,\n",
       " 'Travel': 1.1254689453939142,\n",
       " 'Shopping': 1.6951507572599693,\n",
       " 'News': 1.0421008753647354,\n",
       " 'Navigation': 0.6391552035570377,\n",
       " 'Lifestyle': 2.0008336807002918,\n",
       " 'Entertainment': 7.433652910935113,\n",
       " 'Food & Drink': 0.8753647353063776,\n",
       " 'Sports': 1.5839933305543976,\n",
       " 'Book': 1.5562039738780047,\n",
       " 'Finance': 1.445046547172433,\n",
       " 'Education': 6.294289287203002,\n",
       " 'Productivity': 2.473252744198972,\n",
       " 'Business': 0.7919966652771988,\n",
       " 'Catalogs': 0.1389467833819647,\n",
       " 'Medical': 0.31957760177851885}"
      ]
     },
     "execution_count": 10,
     "metadata": {},
     "output_type": "execute_result"
    }
   ],
   "source": [
    "genre_counting_percentage = {}\n",
    "\n",
    "for key in genre_counting:\n",
    "    proportion = genre_counting[key]/total_number_of_apps\n",
    "    percentage = proportion * 100\n",
    "    genre_counting_percentage[key] = percentage\n",
    "    \n",
    "genre_counting_percentage    "
   ]
  },
  {
   "cell_type": "markdown",
   "metadata": {},
   "source": [
    "# A lengthy frequency table is difficult to analyze. The lengthier the table, the harder it becomes to see any patterns. As a workaround, we can create well-defined intervals and count the frequency for those intervals instead"
   ]
  },
  {
   "cell_type": "code",
   "execution_count": 17,
   "metadata": {},
   "outputs": [
    {
     "name": "stdout",
     "output_type": "stream",
     "text": [
      "2974676\n",
      "0\n"
     ]
    }
   ],
   "source": [
    "n_user_ratings = []\n",
    "for row in apps_data[1:]:\n",
    "    n_user_ratings.append(int(row[5]))\n",
    "    \n",
    "ratings_max = max(n_user_ratings)\n",
    "ratings_min = min(n_user_ratings)\n",
    "print(ratings_max)\n",
    "print(ratings_min)"
   ]
  },
  {
   "cell_type": "code",
   "execution_count": 19,
   "metadata": {},
   "outputs": [],
   "source": [
    "user_ratings_freq = {\"0 - 10000\":0, \"10000 - 100000\":0, \"100000 - 500000\":0, \"500000 - 1000000\": 0, \"1000000+\":0}"
   ]
  },
  {
   "cell_type": "code",
   "execution_count": 22,
   "metadata": {},
   "outputs": [
    {
     "name": "stdout",
     "output_type": "stream",
     "text": [
      "{'0 - 10000': 18543, '10000 - 100000': 2394, '100000 - 500000': 588, '500000 - 1000000': 48, '1000000+': 18}\n"
     ]
    }
   ],
   "source": [
    "for row in apps_data[1:]:\n",
    "    user_ratings = int(row[5])\n",
    "    \n",
    "    if user_ratings <= 10000:\n",
    "        user_ratings_freq['0 - 10000'] += 1\n",
    "        \n",
    "    elif 10000 < user_ratings <= 100000:\n",
    "        user_ratings_freq['10000 - 100000'] += 1\n",
    "        \n",
    "    elif 100000 < user_ratings <= 500000:\n",
    "        user_ratings_freq['100000 - 500000'] += 1\n",
    "        \n",
    "    elif 500000 < user_ratings <= 1000000:\n",
    "        user_ratings_freq['500000 - 1000000'] += 1\n",
    "        \n",
    "    elif user_ratings > 1000000:\n",
    "        user_ratings_freq['1000000+'] += 1\n",
    "\n",
    "\n",
    "print(user_ratings_freq)"
   ]
  },
  {
   "cell_type": "markdown",
   "metadata": {},
   "source": [
    "We learned about dictionaries and focused on how to use them to build frequency tables. Frequency tables are common in data science practice"
   ]
  },
  {
   "cell_type": "code",
   "execution_count": null,
   "metadata": {},
   "outputs": [],
   "source": []
  }
 ],
 "metadata": {
  "kernelspec": {
   "display_name": "Python 3",
   "language": "python",
   "name": "python3"
  },
  "language_info": {
   "codemirror_mode": {
    "name": "ipython",
    "version": 3
   },
   "file_extension": ".py",
   "mimetype": "text/x-python",
   "name": "python",
   "nbconvert_exporter": "python",
   "pygments_lexer": "ipython3",
   "version": "3.7.6"
  }
 },
 "nbformat": 4,
 "nbformat_minor": 2
}
