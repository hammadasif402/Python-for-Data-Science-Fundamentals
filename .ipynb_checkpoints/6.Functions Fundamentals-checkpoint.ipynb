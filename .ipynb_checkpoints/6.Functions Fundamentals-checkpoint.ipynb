{
 "cells": [
  {
   "cell_type": "markdown",
   "metadata": {},
   "source": [
    "So far, we've used several commands: `print()`, `sum()`, `len()`, `min()`, `max()`. These commands are more often known as **functions**. Generally, a function displays this pattern:\n",
    "\n",
    "1. It takes in an input.\n",
    "\n",
    "2. It does something to that input.\n",
    "\n",
    "3. It gives back an output."
   ]
  },
  {
   "cell_type": "code",
   "execution_count": 1,
   "metadata": {},
   "outputs": [
    {
     "name": "stdout",
     "output_type": "stream",
     "text": [
      "103945\n"
     ]
    },
    {
     "data": {
      "text/plain": [
       "103945"
      ]
     },
     "execution_count": 1,
     "metadata": {},
     "output_type": "execute_result"
    }
   ],
   "source": [
    "a_list = [4444, 8897, 6340, 9896, 4835, 4324, 10, 6445,\n",
    "          661, 1246, 1000, 7429, 1376, 8121, 647, 1280,\n",
    "          3993, 4881, 9500, 6701, 1199, 6251, 4432, 37]\n",
    "\n",
    "sum_manual = 0\n",
    "for list_element in a_list:\n",
    "    sum_manual += list_element\n",
    "    \n",
    "print(sum_manual)\n",
    "sum(a_list)   "
   ]
  },
  {
   "cell_type": "code",
   "execution_count": 2,
   "metadata": {},
   "outputs": [],
   "source": [
    "def square(x): # here x is a parameters\n",
    "    return x**2\n",
    "\n",
    "squared_10 = square(10) # here 10 is an argument\n",
    "squared_16 = square(16)"
   ]
  },
  {
   "cell_type": "code",
   "execution_count": 1,
   "metadata": {},
   "outputs": [],
   "source": [
    "def add_10(number):\n",
    "    result = number + 10\n",
    "    return result\n",
    "\n",
    "add_30 = add_10(number=30) # keyword argument\n",
    "add_90 = add_10(number=90)"
   ]
  },
  {
   "cell_type": "markdown",
   "metadata": {},
   "source": [
    "Note that we'll often see people using the terms \"parameter\" and \"argument\" interchangeably, but this is not correct."
   ]
  },
  {
   "cell_type": "code",
   "execution_count": 10,
   "metadata": {},
   "outputs": [],
   "source": [
    "opened_file = open('AppleStore.csv', encoding= \"utf-8\")\n",
    "from csv import reader\n",
    "read_file = reader(opened_file)\n",
    "apps_data = list(read_file)\n",
    " "
   ]
  },
  {
   "cell_type": "code",
   "execution_count": 11,
   "metadata": {},
   "outputs": [],
   "source": [
    "def extract(dataset, index):\n",
    "    new_lst = []\n",
    "    for row in dataset[1:]:\n",
    "        new_lst.append(row[index])\n",
    "    return new_lst\n",
    "\n",
    "genres = extract(apps_data, 11)  "
   ]
  },
  {
   "cell_type": "code",
   "execution_count": 18,
   "metadata": {},
   "outputs": [],
   "source": [
    "def freq_table(data, index):\n",
    "    frequency_table = {}\n",
    "    lst = extract(data, index)\n",
    "    for item in lst:\n",
    "        if item in frequency_table:\n",
    "            frequency_table[item] += 1\n",
    "        else:\n",
    "            frequency_table[item] = 1\n",
    "    return frequency_table"
   ]
  },
  {
   "cell_type": "code",
   "execution_count": 28,
   "metadata": {},
   "outputs": [
    {
     "data": {
      "text/plain": [
       "{'Social Networking': 167,\n",
       " 'Photo & Video': 349,\n",
       " 'Games': 3862,\n",
       " 'Music': 138,\n",
       " 'Reference': 64,\n",
       " 'Health & Fitness': 180,\n",
       " 'Weather': 72,\n",
       " 'Utilities': 248,\n",
       " 'Travel': 81,\n",
       " 'Shopping': 122,\n",
       " 'News': 75,\n",
       " 'Navigation': 46,\n",
       " 'Lifestyle': 144,\n",
       " 'Entertainment': 535,\n",
       " 'Food & Drink': 63,\n",
       " 'Sports': 114,\n",
       " 'Book': 112,\n",
       " 'Finance': 104,\n",
       " 'Education': 453,\n",
       " 'Productivity': 178,\n",
       " 'Business': 57,\n",
       " 'Catalogs': 10,\n",
       " 'Medical': 23}"
      ]
     },
     "execution_count": 28,
     "metadata": {},
     "output_type": "execute_result"
    }
   ],
   "source": [
    "genres_ft = freq_table(apps_data, 11) # argument by postion or positional arguments\n",
    "genres_ft"
   ]
  },
  {
   "cell_type": "code",
   "execution_count": 29,
   "metadata": {},
   "outputs": [
    {
     "data": {
      "text/plain": [
       "{'3.5': 702,\n",
       " '4.5': 2663,\n",
       " '4.0': 1626,\n",
       " '3.0': 383,\n",
       " '5.0': 492,\n",
       " '2.5': 196,\n",
       " '2.0': 106,\n",
       " '1.5': 56,\n",
       " '1.0': 44,\n",
       " '0.0': 929}"
      ]
     },
     "execution_count": 29,
     "metadata": {},
     "output_type": "execute_result"
    }
   ],
   "source": [
    "def freq_table(data, index):\n",
    "    frequency_table = {}\n",
    "    for row in data[1:]:\n",
    "        value = row[index]\n",
    "        if value in frequency_table:\n",
    "            frequency_table[value] += 1\n",
    "        else:\n",
    "            frequency_table[value] = 1\n",
    "    return frequency_table\n",
    "\n",
    "ratings_ft = freq_table(data=apps_data, index=7) # keyword arguments or named arguments.\n",
    "ratings_ft\n"
   ]
  },
  {
   "cell_type": "code",
   "execution_count": null,
   "metadata": {},
   "outputs": [],
   "source": []
  },
  {
   "cell_type": "code",
   "execution_count": null,
   "metadata": {},
   "outputs": [],
   "source": []
  }
 ],
 "metadata": {
  "kernelspec": {
   "display_name": "Python 3",
   "language": "python",
   "name": "python3"
  },
  "language_info": {
   "codemirror_mode": {
    "name": "ipython",
    "version": 3
   },
   "file_extension": ".py",
   "mimetype": "text/x-python",
   "name": "python",
   "nbconvert_exporter": "python",
   "pygments_lexer": "ipython3",
   "version": "3.7.6"
  }
 },
 "nbformat": 4,
 "nbformat_minor": 2
}
