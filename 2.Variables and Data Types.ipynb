{
 "cells": [
  {
   "cell_type": "markdown",
   "metadata": {},
   "source": [
    "# We'll learn how to save values, and how to work with numerical and text data."
   ]
  },
  {
   "cell_type": "code",
   "execution_count": 3,
   "metadata": {},
   "outputs": [
    {
     "name": "stdout",
     "output_type": "stream",
     "text": [
      "20\n"
     ]
    }
   ],
   "source": [
    "result = 20\n",
    "print(result)"
   ]
  },
  {
   "cell_type": "markdown",
   "metadata": {},
   "source": [
    "Value 20 is saved in the computer memory. The computer memory has many storage locations, and 20 is saved to one particular location."
   ]
  },
  {
   "cell_type": "markdown",
   "metadata": {},
   "source": [
    "The storage location to which we saved 20 has a unique identifier, and we can use it to access 20. The identifier is named **result**  and it is more commonly known as variable"
   ]
  },
  {
   "cell_type": "markdown",
   "metadata": {},
   "source": [
    "# These are the two syntax rules we need to be aware of when we're naming variables:\n",
    "\n",
    "1.We must use only letters, numbers, or underscores (we can't use apostrophes, hyphens, whitespace characters, etc.).\n",
    "\n",
    "\n",
    "2.Variable names cannot start with a number.\n"
   ]
  },
  {
   "cell_type": "code",
   "execution_count": 8,
   "metadata": {},
   "outputs": [
    {
     "ename": "SyntaxError",
     "evalue": "invalid syntax (<ipython-input-8-5db5aa4fc534>, line 2)",
     "output_type": "error",
     "traceback": [
      "\u001b[1;36m  File \u001b[1;32m\"<ipython-input-8-5db5aa4fc534>\"\u001b[1;36m, line \u001b[1;32m2\u001b[0m\n\u001b[1;33m    new income = 40000 # has whitespace\u001b[0m\n\u001b[1;37m             ^\u001b[0m\n\u001b[1;31mSyntaxError\u001b[0m\u001b[1;31m:\u001b[0m invalid syntax\n"
     ]
    }
   ],
   "source": [
    "old-income = 34000 # has hyphen\n",
    "new income = 40000 # has whitespace\n",
    "old@ = 12 # has special character\n",
    "salary's = 12000 # has an apostrophe\n",
    "1_data = 42000"
   ]
  },
  {
   "cell_type": "code",
   "execution_count": 9,
   "metadata": {},
   "outputs": [
    {
     "name": "stdout",
     "output_type": "stream",
     "text": [
      "40000\n"
     ]
    }
   ],
   "source": [
    "income = 34000\n",
    "income = income + 6000  # variable can be updated\n",
    "print(income)"
   ]
  },
  {
   "cell_type": "markdown",
   "metadata": {},
   "source": [
    "# shortcuts for update variable +=, -=, *=, /=, **="
   ]
  },
  {
   "cell_type": "markdown",
   "metadata": {},
   "source": [
    "**'='** is an assignment operator not an equality operator"
   ]
  },
  {
   "cell_type": "code",
   "execution_count": 10,
   "metadata": {},
   "outputs": [
    {
     "name": "stdout",
     "output_type": "stream",
     "text": [
      "80\n",
      "30\n"
     ]
    }
   ],
   "source": [
    "variable_1 = 20\n",
    "variable_2 = 20\n",
    "\n",
    "variable_2 += 10\n",
    "variable_1 *= 4\n",
    "\n",
    "print(variable_1)\n",
    "print(variable_2)"
   ]
  },
  {
   "cell_type": "markdown",
   "metadata": {},
   "source": [
    "# So far, we only worked with integers like 20, -3, 30, etc. We can also make computations with decimal numbers:"
   ]
  },
  {
   "cell_type": "markdown",
   "metadata": {},
   "source": [
    "In mathematics, integers are not the same as decimal numbers, and Python acknowledges this difference. We can use the `type()` command to see the type of a value, and confirm that Python distinguishes between integers and decimal numbers:"
   ]
  },
  {
   "cell_type": "code",
   "execution_count": 11,
   "metadata": {},
   "outputs": [
    {
     "name": "stdout",
     "output_type": "stream",
     "text": [
      "<class 'int'>\n",
      "<class 'float'>\n"
     ]
    }
   ],
   "source": [
    "variable_1 = 10\n",
    "variable_2 = 2.5\n",
    "\n",
    "print(type(variable_1))\n",
    "print(type(variable_2))"
   ]
  },
  {
   "cell_type": "markdown",
   "metadata": {},
   "source": [
    "Notice the `int()` command rounded 4.3 down to 4. `int()` will always round a float down, even if the number after the decimal point is greater than five."
   ]
  },
  {
   "cell_type": "markdown",
   "metadata": {},
   "source": [
    "If we want to round off a number, we can instead use the `round()` command, which has more flexibility and can also round up:"
   ]
  },
  {
   "cell_type": "code",
   "execution_count": 12,
   "metadata": {},
   "outputs": [
    {
     "name": "stdout",
     "output_type": "stream",
     "text": [
      "14\n",
      "2\n"
     ]
    }
   ],
   "source": [
    "variable_a = 13.9\n",
    "variable_b = 2.8\n",
    "\n",
    "variable_a = round(variable_a)\n",
    "variable_b = int(variable_b)\n",
    "\n",
    "print(variable_a)\n",
    "print(variable_b)"
   ]
  },
  {
   "cell_type": "markdown",
   "metadata": {},
   "source": [
    "# In programming, we call sequences of characters like \"Facebook\", \"USD\", or \"dasdaslkj\" strings. In Python, a string is of the str type:"
   ]
  },
  {
   "cell_type": "code",
   "execution_count": 16,
   "metadata": {},
   "outputs": [],
   "source": [
    "app_name = 'Pandora - Music & Radio'\n",
    "average_rating = '4.0'\n",
    "total_ratings = '1724546'\n",
    "price = 'free'"
   ]
  },
  {
   "cell_type": "code",
   "execution_count": 18,
   "metadata": {},
   "outputs": [
    {
     "name": "stdout",
     "output_type": "stream",
     "text": [
      "Facebook's new motto is \"move fast with stable infra.\"\n"
     ]
    }
   ],
   "source": [
    "motto = 'Facebook\\'s new motto is \"move fast with stable infra.\"' # use backslash(\\) to avoid syntax error\n",
    "print(motto)"
   ]
  },
  {
   "cell_type": "code",
   "execution_count": 20,
   "metadata": {},
   "outputs": [
    {
     "name": "stdout",
     "output_type": "stream",
     "text": [
      "Facebook's rating is 3.5\n"
     ]
    }
   ],
   "source": [
    "facebook = \"Facebook's rating is\"\n",
    "fb_rating = 3.5\n",
    "\n",
    "fb_rating_str = str(3.5)    \n",
    "fb = facebook + ' ' + fb_rating_str    # concatenation.\n",
    "\n",
    "print(fb)"
   ]
  },
  {
   "cell_type": "markdown",
   "metadata": {},
   "source": [
    "we learned:\n",
    "\n",
    "How to save values using variables\n",
    "\n",
    "What integers and floats are\n",
    "\n",
    "How to work with text data using strings\n",
    "\n",
    "How to convert between different data types"
   ]
  },
  {
   "cell_type": "code",
   "execution_count": null,
   "metadata": {},
   "outputs": [],
   "source": []
  }
 ],
 "metadata": {
  "kernelspec": {
   "display_name": "Python 3",
   "language": "python",
   "name": "python3"
  },
  "language_info": {
   "codemirror_mode": {
    "name": "ipython",
    "version": 3
   },
   "file_extension": ".py",
   "mimetype": "text/x-python",
   "name": "python",
   "nbconvert_exporter": "python",
   "pygments_lexer": "ipython3",
   "version": "3.8.3"
  }
 },
 "nbformat": 4,
 "nbformat_minor": 2
}
